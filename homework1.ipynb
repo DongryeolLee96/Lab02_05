{
  "cells": [
    {
      "cell_type": "markdown",
      "metadata": {
        "id": "view-in-github",
        "colab_type": "text"
      },
      "source": [
        "<a href=\"https://colab.research.google.com/github/YunYunSeoJANG/Lab02_05/blob/main/homework1.ipynb\" target=\"_parent\"><img src=\"https://colab.research.google.com/assets/colab-badge.svg\" alt=\"Open In Colab\"/></a>"
      ]
    },
    {
      "cell_type": "markdown",
      "metadata": {
        "id": "C6Njb9W6nPoX"
      },
      "source": [
        "# Linear Algebra for Electrical Systems Homework 1\n",
        "### <i> Kmeans and KNN -- DUE 09/20"
      ]
    },
    {
      "cell_type": "markdown",
      "metadata": {
        "id": "WvI6srz1nPob"
      },
      "source": [
        "#####  - Professor Young Min Kim\n",
        "#####  - TAs: Junho Lee, Hojun Jang\n",
        "#####  - TA email: twjhlee@snu.ac.kr\n",
        "***\n",
        "We will not accept any late work. Please pay attention to the due date!"
      ]
    },
    {
      "cell_type": "markdown",
      "metadata": {
        "id": "HQYM1hhpnPoc"
      },
      "source": [
        "### <b> Problem 1 - K means clustering\n",
        "##### In this problem you will be asked to fill in the blanks to implement K means clustering algorithm via python.\n",
        "##### Please read the comments carefully and fill in the TODO marks"
      ]
    },
    {
      "cell_type": "code",
      "execution_count": null,
      "metadata": {
        "id": "diK6vuUTnPoe"
      },
      "outputs": [],
      "source": [
        "# Import necessary libraries - Do not import more\n",
        "import numpy as np\n",
        "import matplotlib.pyplot as plt\n",
        "import plotly.express as px\n",
        "import random"
      ]
    },
    {
      "cell_type": "code",
      "execution_count": null,
      "metadata": {
        "id": "433-pS-NnPof"
      },
      "outputs": [],
      "source": [
        "# Next import data and change to shapes we can easily use\n",
        "df = px.data.iris()\n",
        "X_s = []\n",
        "for idx in range(len(df)):\n",
        "    X_element = [\n",
        "        df['sepal_length'][idx],\n",
        "        df['sepal_width'][idx],\n",
        "        df['petal_width'][idx]\n",
        "    ]\n",
        "    X_s.append(X_element)\n",
        "X_s = np.array(X_s)\n",
        "# X_s is now an array of dimension(N, D), where N is the number of datapoints and D is the number of features for each datapoint\n",
        "# For this problem each datapoint consists of 3 variables: sepal length, sepal width, and petal width"
      ]
    },
    {
      "cell_type": "code",
      "execution_count": null,
      "metadata": {
        "id": "2GQJjzRwnPog"
      },
      "outputs": [],
      "source": [
        "# This python class will be the main target of the problem. Fill in the blanks to correctly implement Kmeans algorithm.\n",
        "class KMeansClustering:\n",
        "    def __init__(self, X, K):\n",
        "        \"\"\" Init function. We will save the input parmeters and initialize centroids\n",
        "        [Args]:\n",
        "            X : N x D np.ndarray of N datapoints each with D features\n",
        "            K : The number of clusters to consider\n",
        "        \"\"\"\n",
        "        self.K = K\n",
        "        self.X = X\n",
        "        self.N, self.D = X.shape\n",
        "\n",
        "        ############################### TODO ###################################\n",
        "        \n",
        "        self.cluster = np.zeros(len(self.X)).astype(np.uint8) #클러스터 배정?\n",
        "        #start\n",
        "        self.centroid = np.zeros(self.K).astype(np.uint8)\n",
        "        cen=random.choice(len(self.X), self.K, replace=False)\n",
        "        for i in range(self.K):\n",
        "            self. centroid[i]=self. X[cen[i]]\n",
        "        #임의로 centroid 만듦\n",
        "        self.assign_cluster(self) #cluster 에 맞는 centroid 배정\n",
        "        self. this_clust=0 #현재 clust 값 구하기\n",
        "        for i in range(len(self.X)):\n",
        "            for j in range(self.D):\n",
        "                self. this_clust+=(self.X[i][j]-self.X[self.cluster[i]][j])*(self.X[i][j]-self.X[self.cluster[i]][j])\n",
        "        self. this_clust/=self.N\n",
        "\n",
        "    def assign_cluster(self):\n",
        "        \"\"\"This function assigns each datapoint to the nearest cluster. \n",
        "        The distance metric is L2 distance\n",
        "        \"\"\"\n",
        "        ############################### TODO ###################################\n",
        "        for i in range (len(self.X)):\n",
        "          norm=np.zeros(self.K).astype(np.uint8)\n",
        "          for j in range (self.K):\n",
        "             for k in range (self.D):\n",
        "               norm[j]+=(self. X[j][k]-self.centroid[j][k])*(self.X[j][k]-self.centroid[j][k])\n",
        "          self. cluster[i]=norm.index(min(norm))\n",
        "#self.cluster에 가장 가까운 centroid idx 넣음\n",
        "\n",
        "    def update_centroid(self):\n",
        "        \"\"\"This function updates centroids according to current assignment of clusters.\n",
        "        For each cluster, calculate the mean of each cluster and update its centroid.\n",
        "        \"\"\"\n",
        "        ############################### TODO ###################################\n",
        "        next_cluster=self. this_cluster\n",
        "        while (next_cluster>=self. this_cluster):\n",
        "            next_clust=0\n",
        "            cen=random.choice(len(self.X), self.K, replace=False)\n",
        "            for i in range(self.K):\n",
        "                self. centroid[i]=self. X[cen[i]]\n",
        "            self.assign_cluster(self)\n",
        "            for i in range(len(self.X)):\n",
        "                for j in range(self.D):\n",
        "                    next_clust+=(self.X[i][j]-self.cluster[i][j])*(self.X[i][j]-self.cluster[i][j])\n",
        "            next_clust/=self.N\n",
        "        self.this_clust=next_clust      \n",
        "\n",
        "    def calculate_distance(self):\n",
        "        \"\"\"This function calcuates the average distance from each datapoint to its assigned cluster.\n",
        "        Return the distance.\n",
        "        \"\"\"\n",
        "        ############################### TODO ###################################\n",
        "        for j in range(self.D):\n",
        "              dist+=(self.X[i][j]-self.cluster[i][j])*(self.X[i][j]-self.cluster[i][j])\n",
        "        \n",
        "        return dist\n",
        "\n",
        "    def run(self, steps=100):\n",
        "        \"\"\"This function runs K means clustering for given number of iterations. \n",
        "        For each iteration, you should assign clusters, update centroids and\n",
        "        report the final distance metric from each datapoint to its respective centroids.\n",
        "        Return the calculated distance\n",
        "        \"\"\"\n",
        "        ############################### TODO ###################################\n",
        "        for i in range(steps):\n",
        "          self.update_centroid() \n",
        "          self.assign_cluster()       \n",
        "\n",
        "\n",
        "    def visualize(self):\n",
        "        \"\"\"This fuction visualizes the current clusters\"\"\"\n",
        "        color_list = np.random.rand(self.K)\n",
        "        colors = []\n",
        "        for _idx in range(len(self.X)):\n",
        "            colors.append(color_list[self.cluster[_idx]])\n",
        "        colors = np.array(colors)\n",
        "\n",
        "        fig = plt.figure(figsize=(10, 10))\n",
        "        ax = fig.add_subplot(projection='3d')\n",
        "        ax.scatter(X_s[:, 0], X_s[:, 1], X_s[:, 2], c=colors)\n",
        "\n",
        "        ax.set_xlabel('sepal_length')\n",
        "        ax.set_ylabel('sepal_width')\n",
        "        ax.set_zlabel('petal_width')\n",
        "        plt.show()"
      ]
    },
    {
      "cell_type": "code",
      "execution_count": null,
      "metadata": {
        "id": "K8IVOIdRnPoh"
      },
      "outputs": [],
      "source": [
        "# Initialize Kmeans model and start clustering!\n",
        "# You may change K and steps if you want!\n",
        "K = 3\n",
        "Kmeans = KMeansClustering(X_s, K)\n",
        "\n",
        "# run the Kmeans clustering algorithm for 10 steps\n",
        "dist = Kmeans.run(steps=10)\n",
        "print(\"For K : {} the distance was {}\".format(K, dist))\n",
        "Kmeans.visualize()"
      ]
    },
    {
      "cell_type": "markdown",
      "metadata": {
        "id": "Ts_xFGXAnPoi"
      },
      "source": [
        "### <b> Problem 2 - KNN classification\n",
        "##### In this problem you will be asked to fill in the blanks to classify a new datapoint via KNN algorithm.\n",
        "##### Please read the comments carefully and fill in the TODO marks"
      ]
    },
    {
      "cell_type": "code",
      "execution_count": null,
      "metadata": {
        "id": "wgvi8oyhnPoi"
      },
      "outputs": [],
      "source": [
        "# Again, import data and change to a form we can easily use\n",
        "train_X = []\n",
        "test_X = []\n",
        "train_Y = []\n",
        "test_Y = []\n",
        "\n",
        "for idx in range(len(df)):\n",
        "    X_element = [\n",
        "        df['sepal_length'][idx],\n",
        "        df['sepal_width'][idx],\n",
        "        df['petal_width'][idx]\n",
        "    ]\n",
        "    Y_element = [\n",
        "        df['species_id'][idx]\n",
        "    ]\n",
        "\n",
        "    if idx % 5 != 0:\n",
        "        train_X.append(X_element)\n",
        "        train_Y.append(Y_element)\n",
        "    else:\n",
        "        test_X.append(X_element)\n",
        "        test_Y.append(Y_element)\n",
        "X_train = np.array(train_X)\n",
        "X_test = np.array(test_X)\n",
        "y_train = np.array(train_Y)\n",
        "y_test = np.array(test_Y)\n",
        "\n",
        "# With this, train_X is an N x D array with N datapoints each with D features(sepal length, sepal width, petal width)\n",
        "# train_y contains the groundtruth labels(species id) for each train_X datapoint\n",
        "# In the rest of this question you will be asked to predict the species id for unknown datapoints"
      ]
    },
    {
      "cell_type": "code",
      "execution_count": null,
      "metadata": {
        "id": "-91WDcDsnPoj"
      },
      "outputs": [],
      "source": [
        "# This python class contains all necessary functions for a KNN classifier.\n",
        "class KNN:\n",
        "    \"\"\" k-nearest neighbor classifier class \"\"\"\n",
        "\n",
        "    def train(self, X, y):\n",
        "        \"\"\" Train the classifier using the given training data (X, y).\n",
        "        [Args]:\n",
        "            X: A numpy array of shape (N, D), where N is the number of data points, D is the dimensionality of each data point.\n",
        "            y: A numpy array of shape (N,) containing the training labels.\n",
        "        \"\"\"\n",
        "        ############################### TODO ###################################\n",
        "\n",
        "    def inference(self, X_test, k=1): \n",
        "        \"\"\" For each test example in X, this method predicts its label by majority vote\n",
        "        from the k nearest training samples. It returns the predicted labels. \n",
        "        [Args]:\n",
        "            X: A numpy array of shape (N, D), where N is the number of data points, D is the dimensionality of each data point.\n",
        "            k: The number of neighbors to participate in voting.\n",
        "        [Returns]:\n",
        "            y_pred: A numpy array of shape (N,) containing predicted labels for the test data X,\n",
        "        where y_pred[i] is the predicted label for the test point X[i].\n",
        "        \"\"\"\n",
        "        # Compute the distance matrix below with the given metric.\n",
        "        dists = self.compute_distance(X_test)\n",
        "        \n",
        "        # Predict the labels with the distance matrix.\n",
        "        y_pred = self.predict_labels(X_test, dists, k)\n",
        "\n",
        "        return y_pred\n",
        "\n",
        "    def euclidean(self, x1, x2):\n",
        "        \"\"\"Calculate and return euclidean distance between x1 and x2\n",
        "        [Args] \n",
        "            x1: Datapoint 1\n",
        "            x2: Datapoint 2\n",
        "        [Returns]\n",
        "            dist: Euclidean distance between input\n",
        "        \"\"\"\n",
        "        ############################### TODO ###################################\n",
        "\n",
        "    def compute_distance(self, X_test):\n",
        "        \"\"\"Computes the distance between the training data and test data, \n",
        "        [Args]:\n",
        "            X_test: A numpy array of shape (N, D), where N is the number of test data points, D is the dimensionality of each data point.\n",
        "            X_train: A numpy array of shape (M, D), where M is the number of training data points, D is the dimensionality of each data point.\n",
        "        [Returns]:\n",
        "            dists: A numpy array of shape (N, M) containing the distances\n",
        "        \"\"\"\n",
        "        N = X_test.shape[0]\n",
        "        M = self.X_train.shape[0]\n",
        "        dists = np.zeros((N, M))\n",
        "        for i in range(N):\n",
        "            for j in range(M):\n",
        "                dists[i, j] = self.euclidean(X_test[i].squeeze(), self.X_train[j].squeeze())\n",
        "        return dists\n",
        "\n",
        "    def predict_labels(self, X_test, dists, k):\n",
        "        \"\"\"For the given test image, this method takes a majority vote from k closest points\n",
        "        to predict the class of the test image.\n",
        "        [Args]:\n",
        "            X_test: A numpy array of shape (N, D), where N is the number of test data points, D is the dimensionality of each data point.\n",
        "            dists: A numpy array of shape (N, M) containing distances between\n",
        "            k: The number of neighbors to participate in voting.\n",
        "        [Returns]:\n",
        "            y_pred: A numpy array of shape (N,) containing predicted labels for the test data\n",
        "        \"\"\"\n",
        "        ############################### TODO ###################################\n",
        "\n",
        "\n",
        "    def evaluate(self, y_pred, y):\n",
        "        \"\"\"\n",
        "        Compares the predicted labels to the ground truth y, and prints the classification accuracy.\n",
        "        [Args]:\n",
        "            y_pred: A numpy array of shape (N,) containing predicted labels\n",
        "            y: A numpy array of shape (N,) containing the groundtruth labels\n",
        "        \n",
        "        [Returns]:\n",
        "            accuracy\n",
        "        \"\"\"\n",
        "        y_pred = np.expand_dims(y_pred, axis=1)\n",
        "        num_correct = np.sum(y_pred == y)\n",
        "        accuracy = float(num_correct) / y.shape[0]\n",
        "        return accuracy"
      ]
    },
    {
      "cell_type": "code",
      "execution_count": null,
      "metadata": {
        "id": "U78Q9MgHnPok"
      },
      "outputs": [],
      "source": [
        "# Now let's start classifying!\n",
        "model = KNN()\n",
        "model.train(X_train, y_train)\n",
        "\n",
        "# Model used to test the performance.\n",
        "K = 15\n",
        "y_pred = model.inference(X_test, k=K)\n",
        "acc = model.evaluate(y_pred, y_test)\n",
        "# print(\"Accuarcy:\", acc)\n",
        "\n",
        "# Modify the number of k's and metrics to try as you want\n",
        "num_ks = 50 # number of k's\n",
        "metrics = ['l2']\n",
        "\n",
        "# Run experiments\n",
        "print_k_interval = 5\n",
        "result = dict(zip(metrics, [[] for _ in range(len(metrics))]))\n",
        "for metric in metrics:\n",
        "    print(\"running KNN with {} distance metric\".format(metric))\n",
        "    for k in range(1, num_ks+1):\n",
        "        if k % print_k_interval==0:\n",
        "            print(\"    processing... k={:3d}\".format(k))\n",
        "        y_pred = model.inference(X_test, k=k)\n",
        "        acc = model.evaluate(y_pred, y_test)\n",
        "        result[metric].append(acc)\n",
        "    print()\n",
        "\n",
        "# Visualize and report the results\n",
        "fig = plt.figure(figsize=(10,5))\n",
        "ax = fig.add_subplot(1,1,1)\n",
        "\n",
        "x_axis = np.arange(1, num_ks+1, 1)\n",
        "for i, metric in enumerate(metrics):\n",
        "    ax.scatter(x_axis, result[metric], label = metric)\n",
        "\n",
        "ax.set(title=\"K-Nearest Neighbor Accuracies on different Ks\")\n",
        "ax.set(xlabel='K', ylabel='Accuracy')\n",
        "ax.set(xticks=np.arange(0, num_ks+1,5), yticks=np.arange(0.5,1.0,0.05))\n",
        "ax.legend()\n",
        "plt.show()\n"
      ]
    }
  ],
  "metadata": {
    "kernelspec": {
      "display_name": "Python 3.9.12 ('pads')",
      "language": "python",
      "name": "python3"
    },
    "language_info": {
      "codemirror_mode": {
        "name": "ipython",
        "version": 3
      },
      "file_extension": ".py",
      "mimetype": "text/x-python",
      "name": "python",
      "nbconvert_exporter": "python",
      "pygments_lexer": "ipython3",
      "version": "3.9.12"
    },
    "orig_nbformat": 4,
    "vscode": {
      "interpreter": {
        "hash": "b6fcdbe2229cfc9c0b5565b76f8dca42fc259c8c3f37a351a7ddc38cabb12f8c"
      }
    },
    "colab": {
      "provenance": [],
      "include_colab_link": true
    }
  },
  "nbformat": 4,
  "nbformat_minor": 0
}